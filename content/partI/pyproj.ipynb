{
 "cells": [
  {
   "cell_type": "markdown",
   "metadata": {},
   "source": [
    "# Pyproj\n",
    "\n",
    "Proj is a cartographic transformation class, allowing for \n",
    "\n",
    "- conversion from geogrphic coordinates (lon, lat) to cartographic coordinates (x,y) known as Forward projection\n",
    "- conversion from cartographic coordinates to geographic coordinates, known as inverse projection\n",
    "- calculation of great circle distances\n"
   ]
  },
  {
   "cell_type": "code",
   "execution_count": 1,
   "metadata": {
    "collapsed": true
   },
   "outputs": [],
   "source": [
    "import pyproj #assume conda install pyproj"
   ]
  },
  {
   "cell_type": "markdown",
   "metadata": {},
   "source": [
    "http://www.latlong.net/place/orpheum-theater-phoenix-az-usa-5120.html"
   ]
  },
  {
   "cell_type": "markdown",
   "metadata": {
    "collapsed": false
   },
   "source": [
    "# Turn back on to render locally. Off for github rendering\n",
    "from IPython.core.display import display, HTML\n",
    "display(HTML('http://www.latlong.net/place/orpheum-theater-phoenix-az-usa-5120.html'))"
   ]
  },
  {
   "cell_type": "code",
   "execution_count": 2,
   "metadata": {
    "collapsed": true
   },
   "outputs": [],
   "source": [
    "# Phoenix Orpheum Theatre from lon lat to UTM\n",
    "p = pyproj.Proj(proj='utm', zone=12, ellpse='WGS84')\n",
    "x,y = p(-112.077019, 33.449184)"
   ]
  },
  {
   "cell_type": "code",
   "execution_count": 3,
   "metadata": {
    "collapsed": false
   },
   "outputs": [
    {
     "data": {
      "text/plain": [
       "(399899.94177803374, 3701603.9358617216)"
      ]
     },
     "execution_count": 3,
     "metadata": {},
     "output_type": "execute_result"
    }
   ],
   "source": [
    "x,y"
   ]
  },
  {
   "cell_type": "code",
   "execution_count": 4,
   "metadata": {
    "collapsed": false
   },
   "outputs": [
    {
     "data": {
      "text/plain": [
       "'lon=-112.077 lat=33.449'"
      ]
     },
     "execution_count": 4,
     "metadata": {},
     "output_type": "execute_result"
    }
   ],
   "source": [
    "# now in reverse\n",
    "'lon=%8.3f lat=%5.3f' % p(x, y, inverse=True)"
   ]
  },
  {
   "cell_type": "code",
   "execution_count": 5,
   "metadata": {
    "collapsed": false
   },
   "outputs": [
    {
     "data": {
      "text/plain": [
       "((-279054.5432529022, -184654.38644226943, -505938.564040289),\n",
       " (4105003.9203669475, 3779156.0097933286, 4225094.613459164))"
      ]
     },
     "execution_count": 5,
     "metadata": {},
     "output_type": "execute_result"
    }
   ],
   "source": [
    "# three cities at a time\n",
    "# (Fresno, LA, SF)\n",
    "lons = (-119.72,-118.40,-122.38)\n",
    "lats = (36.77, 33.93, 37.62 )\n",
    "x, y = p(lons, lats)\n",
    "x, y"
   ]
  },
  {
   "cell_type": "code",
   "execution_count": 6,
   "metadata": {
    "collapsed": false
   },
   "outputs": [
    {
     "data": {
      "text/plain": [
       "((-119.72000000000001, -118.40000000000002, -122.38),\n",
       " (36.77000000000001, 33.92999999999999, 37.62))"
      ]
     },
     "execution_count": 6,
     "metadata": {},
     "output_type": "execute_result"
    }
   ],
   "source": [
    "# reverse\n",
    "p(x, y, inverse=True)"
   ]
  },
  {
   "cell_type": "markdown",
   "metadata": {},
   "source": [
    "## Geod\n",
    "\n",
    "Handles various great circle  calculations"
   ]
  },
  {
   "cell_type": "code",
   "execution_count": 7,
   "metadata": {
    "collapsed": true
   },
   "outputs": [],
   "source": [
    "g = pyproj.Geod(ellps='WGS84')"
   ]
  },
  {
   "cell_type": "code",
   "execution_count": 8,
   "metadata": {
    "collapsed": false
   },
   "outputs": [],
   "source": [
    "KEWK = (40.6895, -74.1745)\n",
    "KPHX = (33.4373, -112.0078)\n",
    "KORD = (41.9742, -87.9073)\n",
    "\n",
    "elat, elon = KEWK\n",
    "plat, plon = KPHX\n",
    "olat, olon = KORD\n"
   ]
  },
  {
   "cell_type": "code",
   "execution_count": 9,
   "metadata": {
    "collapsed": true
   },
   "outputs": [],
   "source": [
    "gcd = g.inv(elon, elat, plon, plat)"
   ]
  },
  {
   "cell_type": "code",
   "execution_count": 10,
   "metadata": {
    "collapsed": false
   },
   "outputs": [
    {
     "data": {
      "text/plain": [
       "(-91.2732290860914, 65.3386673857264, 3431568.1185160098)"
      ]
     },
     "execution_count": 10,
     "metadata": {},
     "output_type": "execute_result"
    }
   ],
   "source": [
    "gcd"
   ]
  },
  {
   "cell_type": "code",
   "execution_count": 11,
   "metadata": {
    "collapsed": false
   },
   "outputs": [
    {
     "data": {
      "text/plain": [
       "2132.2769133704114"
      ]
     },
     "execution_count": 11,
     "metadata": {},
     "output_type": "execute_result"
    }
   ],
   "source": [
    "gcd[-1]*0.000621371 # miles"
   ]
  },
  {
   "cell_type": "code",
   "execution_count": 12,
   "metadata": {
    "collapsed": true
   },
   "outputs": [],
   "source": [
    "gcd = g.inv(plon, plat, elon, elat)"
   ]
  },
  {
   "cell_type": "code",
   "execution_count": 13,
   "metadata": {
    "collapsed": false
   },
   "outputs": [
    {
     "data": {
      "text/plain": [
       "(65.3386673857264, -91.2732290860914, 3431568.1185160098)"
      ]
     },
     "execution_count": 13,
     "metadata": {},
     "output_type": "execute_result"
    }
   ],
   "source": [
    "gcd"
   ]
  },
  {
   "cell_type": "markdown",
   "metadata": {},
   "source": [
    "## Intermediate Points on GCR"
   ]
  },
  {
   "cell_type": "code",
   "execution_count": 14,
   "metadata": {
    "collapsed": false
   },
   "outputs": [
    {
     "data": {
      "text/plain": [
       "[(-77.85858092028559, 40.5682366828179),\n",
       " (-81.52301714815934, 40.33004945596237),\n",
       " (-85.15562152245272, 39.976714526142466),\n",
       " (-88.74513566069402, 39.51080730766174),\n",
       " (-92.28150793734804, 38.93561891656732),\n",
       " (-95.75609646052925, 38.25505542350523),\n",
       " (-99.16179186625742, 37.473526814876784),\n",
       " (-102.49306249399991, 36.59583251735883),\n",
       " (-105.74593070568727, 35.62704959089719),\n",
       " (-108.91789319309771, 34.57242850333217)]"
      ]
     },
     "execution_count": 14,
     "metadata": {},
     "output_type": "execute_result"
    }
   ],
   "source": [
    "ll10 = g.npts(elon, elat, plon, plat, 10)\n",
    "\n",
    "ll10"
   ]
  },
  {
   "cell_type": "code",
   "execution_count": 15,
   "metadata": {
    "collapsed": false
   },
   "outputs": [
    {
     "name": "stdout",
     "output_type": "stream",
     "text": [
      "Populating the interactive namespace from numpy and matplotlib\n"
     ]
    }
   ],
   "source": [
    "%pylab inline"
   ]
  },
  {
   "cell_type": "code",
   "execution_count": 16,
   "metadata": {
    "collapsed": true
   },
   "outputs": [],
   "source": [
    "import numpy as np\n",
    "ll10 = np.array(ll10)"
   ]
  },
  {
   "cell_type": "code",
   "execution_count": 17,
   "metadata": {
    "collapsed": false
   },
   "outputs": [
    {
     "data": {
      "text/plain": [
       "[<matplotlib.lines.Line2D at 0x10ef4ad68>]"
      ]
     },
     "execution_count": 17,
     "metadata": {},
     "output_type": "execute_result"
    },
    {
     "data": {
      "image/png": "[encoded data removed]",
      "text/plain": [
       "<matplotlib.figure.Figure at 0x10cc07390>"
      ]
     },
     "metadata": {},
     "output_type": "display_data"
    }
   ],
   "source": [
    "plot(ll10[:,0], ll10[:,1])"
   ]
  },
  {
   "cell_type": "code",
   "execution_count": 18,
   "metadata": {
    "collapsed": false
   },
   "outputs": [
    {
     "data": {
      "text/plain": [
       "(32, 45)"
      ]
     },
     "execution_count": 18,
     "metadata": {},
     "output_type": "execute_result"
    },
    {
     "data": {
      "image/png": "[encoded data removed]",
      "text/plain": [
       "<matplotlib.figure.Figure at 0x10f07b780>"
      ]
     },
     "metadata": {},
     "output_type": "display_data"
    }
   ],
   "source": [
    "# phx to ord to ewk\n",
    "plot(plon, plat, \"*\")\n",
    "plot(olon, olat, \"+\")\n",
    "plot(elon, elat, '^')\n",
    "ll10 = np.array(g.npts(plon, plat, olon, olat, 10))\n",
    "plot(ll10[:,0], ll10[:,1])\n",
    "ll10 = np.array(g.npts(olon, olat, elon, elat, 10))\n",
    "plot(ll10[:,0], ll10[:,1])\n",
    "ylim(32, 45)\n",
    "\n"
   ]
  },
  {
   "cell_type": "code",
   "execution_count": 19,
   "metadata": {
    "collapsed": false
   },
   "outputs": [
    {
     "data": {
      "text/plain": [
       "(32, 45)"
      ]
     },
     "execution_count": 19,
     "metadata": {},
     "output_type": "execute_result"
    },
    {
     "data": {
      "image/png": "[encoded data removed]",
      "text/plain": [
       "<matplotlib.figure.Figure at 0x10f515080>"
      ]
     },
     "metadata": {},
     "output_type": "display_data"
    }
   ],
   "source": [
    "# phx to ord to ewk\n",
    "plot(plon, plat, \"*\")\n",
    "plot(olon, olat, \"+\")\n",
    "plot(elon, elat, '^')\n",
    "ll10 = np.array(g.npts(plon, plat, olon, olat, 10))\n",
    "plot(ll10[:,0], ll10[:,1])\n",
    "ll10 = np.array(g.npts(olon, olat, elon, elat, 10))\n",
    "plot(ll10[:,0], ll10[:,1])\n",
    "ylim(32, 45)\n",
    "\n"
   ]
  },
  {
   "cell_type": "code",
   "execution_count": null,
   "metadata": {
    "collapsed": true
   },
   "outputs": [],
   "source": []
  },
  {
   "cell_type": "code",
   "execution_count": 20,
   "metadata": {
    "collapsed": false
   },
   "outputs": [
    {
     "data": {
      "text/plain": [
       "(32, 45)"
      ]
     },
     "execution_count": 20,
     "metadata": {},
     "output_type": "execute_result"
    },
    {
     "data": {
      "image/png": "[encoded data removed]",
      "text/plain": [
       "<matplotlib.figure.Figure at 0x10f659ef0>"
      ]
     },
     "metadata": {},
     "output_type": "display_data"
    }
   ],
   "source": [
    "# phx to ord to ewk\n",
    "plot(plon, plat, \"*\")\n",
    "plot(olon, olat, \"+\")\n",
    "plot(elon, elat, '^')\n",
    "ll10 = np.array(g.npts(plon, plat, olon, olat, 200))\n",
    "plot(ll10[:,0], ll10[:,1])\n",
    "ll10 = np.array(g.npts(olon, olat, elon, elat, 200))\n",
    "plot(ll10[:,0], ll10[:,1])\n",
    "ylim(32, 45)\n",
    "\n"
   ]
  },
  {
   "cell_type": "code",
   "execution_count": 21,
   "metadata": {
    "collapsed": true
   },
   "outputs": [],
   "source": [
    "# miami\n",
    "mlon = -80.1818\n",
    "mlat = 25.7617\n",
    "\n",
    "me = np.array(g.npts(mlon, mlat, elon, elat, 200))\n",
    "mp = np.array(g.npts(mlon, mlat, plon, plat, 200))"
   ]
  },
  {
   "cell_type": "code",
   "execution_count": 30,
   "metadata": {
    "collapsed": false
   },
   "outputs": [
    {
     "data": {
      "text/plain": [
       "(22, 45)"
      ]
     },
     "execution_count": 30,
     "metadata": {},
     "output_type": "execute_result"
    },
    {
     "data": {
      "image/png": "[encoded data removed]",
      "text/plain": [
       "<matplotlib.figure.Figure at 0x1105752e8>"
      ]
     },
     "metadata": {},
     "output_type": "display_data"
    }
   ],
   "source": [
    "plot(mlon, mlat, \"o\")\n",
    "plot(me[:,0], me[:,1])\n",
    "plot(mp[:,0], mp[:,1])\n",
    "plot(plon, plat, \"*\")\n",
    "plot(olon, olat, \"+\")\n",
    "plot(elon, elat, '^')\n",
    "ll10 = np.array(g.npts(plon, plat, olon, olat, 200))\n",
    "plot(ll10[:,0], ll10[:,1])\n",
    "ll10 = np.array(g.npts(olon, olat, elon, elat, 200))\n",
    "plot(ll10[:,0], ll10[:,1])\n",
    "ylim(22, 45)"
   ]
  },
  {
   "cell_type": "code",
   "execution_count": null,
   "metadata": {
    "collapsed": true
   },
   "outputs": [],
   "source": []
  }
 ],
 "metadata": {
  "anaconda-cloud": {},
  "kernelspec": {
   "display_name": "Python [conda env:py3]",
   "language": "python",
   "name": "conda-env-py3-py"
  },
  "language_info": {
   "codemirror_mode": {
    "name": "ipython",
    "version": 3
   },
   "file_extension": ".py",
   "mimetype": "text/x-python",
   "name": "python",
   "nbconvert_exporter": "python",
   "pygments_lexer": "ipython3",
   "version": "3.5.0"
  }
 },
 "nbformat": 4,
 "nbformat_minor": 1
}
