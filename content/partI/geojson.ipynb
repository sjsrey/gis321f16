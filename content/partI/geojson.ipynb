{
 "cells": [
  {
   "cell_type": "markdown",
   "metadata": {},
   "source": [
    "# Geojson\n",
    "\n",
    "[Specification](http://geojson.org/geojson-spec.html)"
   ]
  },
  {
   "cell_type": "code",
   "execution_count": 1,
   "metadata": {
    "collapsed": true,
    "scrolled": true
   },
   "outputs": [],
   "source": [
    "import json"
   ]
  },
  {
   "cell_type": "markdown",
   "metadata": {},
   "source": [
    "## File\n",
    "\n",
    "Source https://github.com/datasets/geo-countries/tree/master/data\n",
    "Saved locally as `countries.geojson`"
   ]
  },
  {
   "cell_type": "code",
   "execution_count": 2,
   "metadata": {
    "collapsed": false
   },
   "outputs": [],
   "source": [
    "f = \"countries.geojson\"\n",
    "with open(f, 'r') as infile:\n",
    "    g = json.load(infile)"
   ]
  },
  {
   "cell_type": "code",
   "execution_count": 3,
   "metadata": {
    "collapsed": false
   },
   "outputs": [
    {
     "data": {
      "text/plain": [
       "[u'type', u'features']"
      ]
     },
     "execution_count": 3,
     "metadata": {},
     "output_type": "execute_result"
    }
   ],
   "source": [
    "g.keys()"
   ]
  },
  {
   "cell_type": "code",
   "execution_count": 4,
   "metadata": {
    "collapsed": false
   },
   "outputs": [
    {
     "data": {
      "text/plain": [
       "255"
      ]
     },
     "execution_count": 4,
     "metadata": {},
     "output_type": "execute_result"
    }
   ],
   "source": [
    "n_features = len(g['features'])\n",
    "n_features"
   ]
  },
  {
   "cell_type": "code",
   "execution_count": 5,
   "metadata": {
    "collapsed": false
   },
   "outputs": [],
   "source": [
    "polygons = []\n",
    "multipolygons = []\n",
    "for i, feature in enumerate(g['features']):\n",
    "    if feature['geometry']['type'] == 'Polygon':\n",
    "        n_p = len(feature['geometry']['coordinates'])\n",
    "        polygons.append((i,n_p))\n",
    "    elif feature['geometry']['type'] == 'MultiPolygon':\n",
    "        n_p = len(feature['geometry']['coordinates'])\n",
    "        multipolygons.append((i,n_p))\n",
    "    "
   ]
  },
  {
   "cell_type": "code",
   "execution_count": 6,
   "metadata": {
    "collapsed": false
   },
   "outputs": [
    {
     "data": {
      "text/plain": [
       "105"
      ]
     },
     "execution_count": 6,
     "metadata": {},
     "output_type": "execute_result"
    }
   ],
   "source": [
    "len(polygons)"
   ]
  },
  {
   "cell_type": "code",
   "execution_count": 7,
   "metadata": {
    "collapsed": false
   },
   "outputs": [
    {
     "data": {
      "text/plain": [
       "150"
      ]
     },
     "execution_count": 7,
     "metadata": {},
     "output_type": "execute_result"
    }
   ],
   "source": [
    "len(multipolygons)"
   ]
  },
  {
   "cell_type": "code",
   "execution_count": 8,
   "metadata": {
    "collapsed": false
   },
   "outputs": [
    {
     "data": {
      "text/plain": [
       "[(2, 3),\n",
       " (3, 2),\n",
       " (5, 16),\n",
       " (7, 10),\n",
       " (8, 8),\n",
       " (9, 2),\n",
       " (10, 5),\n",
       " (11, 179),\n",
       " (13, 18),\n",
       " (14, 2),\n",
       " (15, 94),\n",
       " (17, 6),\n",
       " (22, 22),\n",
       " (25, 42),\n",
       " (30, 10),\n",
       " (31, 2),\n",
       " (33, 43),\n",
       " (35, 2),\n",
       " (39, 410),\n",
       " (41, 163),\n",
       " (42, 70),\n",
       " (43, 2),\n",
       " (46, 3),\n",
       " (47, 2),\n",
       " (49, 13),\n",
       " (50, 11),\n",
       " (51, 3),\n",
       " (52, 9),\n",
       " (53, 4),\n",
       " (55, 41),\n",
       " (57, 3),\n",
       " (58, 2),\n",
       " (59, 4),\n",
       " (61, 22),\n",
       " (64, 15),\n",
       " (65, 3),\n",
       " (67, 16),\n",
       " (68, 8),\n",
       " (69, 3),\n",
       " (71, 23),\n",
       " (72, 8),\n",
       " (74, 42),\n",
       " (75, 44),\n",
       " (76, 15),\n",
       " (77, 21),\n",
       " (78, 11),\n",
       " (79, 20),\n",
       " (80, 3),\n",
       " (81, 57),\n",
       " (83, 4),\n",
       " (88, 13),\n",
       " (89, 3),\n",
       " (90, 74),\n",
       " (91, 2),\n",
       " (92, 128),\n",
       " (95, 2),\n",
       " (96, 4),\n",
       " (98, 7),\n",
       " (99, 25),\n",
       " (100, 5),\n",
       " (102, 264),\n",
       " (104, 35),\n",
       " (105, 3),\n",
       " (106, 10),\n",
       " (107, 7),\n",
       " (108, 12),\n",
       " (110, 5),\n",
       " (112, 29),\n",
       " (116, 109),\n",
       " (119, 6),\n",
       " (120, 2),\n",
       " (122, 6),\n",
       " (123, 35),\n",
       " (124, 2),\n",
       " (125, 53),\n",
       " (127, 4),\n",
       " (134, 5),\n",
       " (136, 2),\n",
       " (139, 2),\n",
       " (144, 3),\n",
       " (145, 176),\n",
       " (146, 51),\n",
       " (147, 22),\n",
       " (150, 2),\n",
       " (151, 39),\n",
       " (154, 12),\n",
       " (155, 4),\n",
       " (156, 5),\n",
       " (158, 3),\n",
       " (159, 3),\n",
       " (160, 17),\n",
       " (162, 11),\n",
       " (165, 3),\n",
       " (166, 4),\n",
       " (168, 12),\n",
       " (169, 120),\n",
       " (172, 25),\n",
       " (173, 6),\n",
       " (174, 2),\n",
       " (175, 15),\n",
       " (176, 4),\n",
       " (177, 5),\n",
       " (178, 12),\n",
       " (179, 96),\n",
       " (180, 9),\n",
       " (181, 58),\n",
       " (183, 4),\n",
       " (184, 10),\n",
       " (185, 17),\n",
       " (187, 2),\n",
       " (188, 88),\n",
       " (191, 213),\n",
       " (194, 11),\n",
       " (196, 2),\n",
       " (201, 12),\n",
       " (202, 4),\n",
       " (203, 48),\n",
       " (204, 2),\n",
       " (205, 3),\n",
       " (209, 2),\n",
       " (211, 2),\n",
       " (215, 41),\n",
       " (218, 26),\n",
       " (220, 12),\n",
       " (223, 20),\n",
       " (224, 3),\n",
       " (225, 3),\n",
       " (226, 3),\n",
       " (227, 10),\n",
       " (228, 2),\n",
       " (229, 4),\n",
       " (230, 6),\n",
       " (231, 9),\n",
       " (232, 8),\n",
       " (233, 7),\n",
       " (235, 4),\n",
       " (236, 13),\n",
       " (238, 346),\n",
       " (239, 2),\n",
       " (240, 3),\n",
       " (242, 5),\n",
       " (243, 29),\n",
       " (244, 6),\n",
       " (245, 3),\n",
       " (246, 25),\n",
       " (247, 27),\n",
       " (248, 2),\n",
       " (250, 2),\n",
       " (251, 9),\n",
       " (252, 3)]"
      ]
     },
     "execution_count": 8,
     "metadata": {},
     "output_type": "execute_result"
    }
   ],
   "source": [
    "multipolygons"
   ]
  },
  {
   "cell_type": "code",
   "execution_count": 9,
   "metadata": {
    "collapsed": false
   },
   "outputs": [
    {
     "data": {
      "text/plain": [
       "766"
      ]
     },
     "execution_count": 9,
     "metadata": {},
     "output_type": "execute_result"
    }
   ],
   "source": [
    "len(feature['geometry']['coordinates'][0])"
   ]
  },
  {
   "cell_type": "code",
   "execution_count": 10,
   "metadata": {
    "collapsed": true
   },
   "outputs": [],
   "source": [
    "c = feature['geometry']['coordinates']"
   ]
  },
  {
   "cell_type": "code",
   "execution_count": 11,
   "metadata": {
    "collapsed": false
   },
   "outputs": [
    {
     "data": {
      "text/plain": [
       "1"
      ]
     },
     "execution_count": 11,
     "metadata": {},
     "output_type": "execute_result"
    }
   ],
   "source": [
    "len(c)"
   ]
  },
  {
   "cell_type": "code",
   "execution_count": 12,
   "metadata": {
    "collapsed": false
   },
   "outputs": [
    {
     "data": {
      "text/plain": [
       "[u'geometry', u'type', u'properties']"
      ]
     },
     "execution_count": 12,
     "metadata": {},
     "output_type": "execute_result"
    }
   ],
   "source": [
    "feature.keys()"
   ]
  },
  {
   "cell_type": "code",
   "execution_count": 13,
   "metadata": {
    "collapsed": false
   },
   "outputs": [
    {
     "data": {
      "text/plain": [
       "{u'ADMIN': u'Zimbabwe', u'ISO_A3': u'ZWE'}"
      ]
     },
     "execution_count": 13,
     "metadata": {},
     "output_type": "execute_result"
    }
   ],
   "source": [
    "feature['properties']"
   ]
  },
  {
   "cell_type": "code",
   "execution_count": 14,
   "metadata": {
    "collapsed": false
   },
   "outputs": [
    {
     "data": {
      "text/plain": [
       "u'Feature'"
      ]
     },
     "execution_count": 14,
     "metadata": {},
     "output_type": "execute_result"
    }
   ],
   "source": [
    "feature['type']"
   ]
  },
  {
   "cell_type": "code",
   "execution_count": 15,
   "metadata": {
    "collapsed": false
   },
   "outputs": [
    {
     "data": {
      "text/plain": [
       "u'Polygon'"
      ]
     },
     "execution_count": 15,
     "metadata": {},
     "output_type": "execute_result"
    }
   ],
   "source": [
    "feature['geometry']['type']"
   ]
  },
  {
   "cell_type": "code",
   "execution_count": null,
   "metadata": {
    "collapsed": true
   },
   "outputs": [],
   "source": []
  }
 ],
 "metadata": {
  "anaconda-cloud": {},
  "kernelspec": {
   "display_name": "Python [default]",
   "language": "python",
   "name": "python2"
  },
  "language_info": {
   "codemirror_mode": {
    "name": "ipython",
    "version": 2
   },
   "file_extension": ".py",
   "mimetype": "text/x-python",
   "name": "python",
   "nbconvert_exporter": "python",
   "pygments_lexer": "ipython2",
   "version": "2.7.12"
  }
 },
 "nbformat": 4,
 "nbformat_minor": 0
}
